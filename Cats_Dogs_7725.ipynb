{
  "nbformat": 4,
  "nbformat_minor": 0,
  "metadata": {
    "colab": {
      "name": "Cats_Dogs_2.ipynb",
      "version": "0.3.2",
      "provenance": [],
      "collapsed_sections": [],
      "include_colab_link": true
    },
    "kernelspec": {
      "name": "python3",
      "display_name": "Python 3"
    }
  },
  "cells": [
    {
      "cell_type": "markdown",
      "metadata": {
        "id": "view-in-github",
        "colab_type": "text"
      },
      "source": [
        "[View in Colaboratory](https://colab.research.google.com/github/raahatg21/Cats-and-Dogs-Dataset-with-Keras/blob/master/Cats_Dogs_2.ipynb)"
      ]
    },
    {
      "metadata": {
        "id": "R6P0keq3SUwR",
        "colab_type": "text"
      },
      "cell_type": "markdown",
      "source": [
        "# Cats vs Dogs: Binary Classification"
      ]
    },
    {
      "metadata": {
        "id": "yPPbgy0nSbAy",
        "colab_type": "text"
      },
      "cell_type": "markdown",
      "source": [
        "**Using Data Augmentation on Simple CNN. 2,000/1,000/1,000 Data. From Google Drive. 80% Validation Accuracy. 77.25% Testing Accuracy.**"
      ]
    },
    {
      "metadata": {
        "id": "KacZdQ4VQIyB",
        "colab_type": "code",
        "colab": {}
      },
      "cell_type": "code",
      "source": [
        "import numpy as np\n",
        "import os\n",
        "import matplotlib.pyplot as plt\n",
        "plt.style.use('ggplot')"
      ],
      "execution_count": 0,
      "outputs": []
    },
    {
      "metadata": {
        "id": "Wf-VpG6VSwIy",
        "colab_type": "code",
        "colab": {
          "base_uri": "https://localhost:8080/",
          "height": 34
        },
        "outputId": "8f4e11a6-d867-4157-abee-e7a55b19a1f9"
      },
      "cell_type": "code",
      "source": [
        "from keras import models\n",
        "from keras import layers\n",
        "from keras import optimizers\n",
        "from keras.preprocessing.image import ImageDataGenerator"
      ],
      "execution_count": 2,
      "outputs": [
        {
          "output_type": "stream",
          "text": [
            "Using TensorFlow backend.\n"
          ],
          "name": "stderr"
        }
      ]
    },
    {
      "metadata": {
        "id": "swdyfnc_TJzw",
        "colab_type": "code",
        "colab": {
          "base_uri": "https://localhost:8080/",
          "height": 139
        },
        "cellView": "both",
        "outputId": "f319bfe6-ae6e-47f5-f533-f7cb3bd3a789"
      },
      "cell_type": "code",
      "source": [
        "#@title\n",
        "# Accessing files from Google Drive\n",
        "\n",
        "!apt-get install -y -qq software-properties-common python-software-properties module-init-tools\n",
        "!add-apt-repository -y ppa:alessandro-strada/ppa 2>&1 > /dev/null\n",
        "!apt-get update -qq 2>&1 > /dev/null\n",
        "!apt-get -y install -qq google-drive-ocamlfuse fuse\n",
        "\n",
        "from google.colab import auth\n",
        "auth.authenticate_user()\n",
        "from oauth2client.client import GoogleCredentials\n",
        "creds = GoogleCredentials.get_application_default()\n",
        "import getpass\n",
        "\n",
        "!google-drive-ocamlfuse -headless -id={creds.client_id} -secret={creds.client_secret} < /dev/null 2>&1 | grep URL\n",
        "vcode = getpass.getpass()\n",
        "!echo {vcode} | google-drive-ocamlfuse -headless -id={creds.client_id} -secret={creds.client_secret}"
      ],
      "execution_count": 3,
      "outputs": [
        {
          "output_type": "stream",
          "text": [
            "gpg: keybox '/tmp/tmpkgq5m3l2/pubring.gpg' created\n",
            "gpg: /tmp/tmpkgq5m3l2/trustdb.gpg: trustdb created\n",
            "gpg: key AD5F235DF639B041: public key \"Launchpad PPA for Alessandro Strada\" imported\n",
            "gpg: Total number processed: 1\n",
            "gpg:               imported: 1\n",
            "Warning: apt-key output should not be parsed (stdout is not a terminal)\n",
            "··········\n"
          ],
          "name": "stdout"
        }
      ]
    },
    {
      "metadata": {
        "id": "sYy9JD0iTTsh",
        "colab_type": "code",
        "colab": {
          "base_uri": "https://localhost:8080/",
          "height": 52
        },
        "outputId": "44f5c747-a5dd-4997-c6d3-2678b4deed93"
      },
      "cell_type": "code",
      "source": [
        "# Making a directory named 'Drive' and linking it with Google Drive\n",
        "\n",
        "!mkdir -p drive\n",
        "!google-drive-ocamlfuse drive"
      ],
      "execution_count": 4,
      "outputs": [
        {
          "output_type": "stream",
          "text": [
            "fuse: mountpoint is not empty\r\n",
            "fuse: if you are sure this is safe, use the 'nonempty' mount option\r\n"
          ],
          "name": "stdout"
        }
      ]
    },
    {
      "metadata": {
        "id": "mwAfdzh7T1m2",
        "colab_type": "code",
        "colab": {
          "base_uri": "https://localhost:8080/",
          "height": 34
        },
        "outputId": "33932ae4-5d27-4af4-baab-e2bc7bb44817"
      },
      "cell_type": "code",
      "source": [
        "!ls"
      ],
      "execution_count": 5,
      "outputs": [
        {
          "output_type": "stream",
          "text": [
            "adc.json  datalab  drive  sample_data\r\n"
          ],
          "name": "stdout"
        }
      ]
    },
    {
      "metadata": {
        "id": "nSLIB52bT-fh",
        "colab_type": "code",
        "colab": {}
      },
      "cell_type": "code",
      "source": [
        "train_dir = 'drive/cats_and_dogs_small/train'\n",
        "val_dir = 'drive/cats_and_dogs_small/validation'\n",
        "test_dir = 'drive/cats_and_dogs_small/test'"
      ],
      "execution_count": 0,
      "outputs": []
    },
    {
      "metadata": {
        "id": "XRIrIfPzUPqF",
        "colab_type": "code",
        "colab": {
          "base_uri": "https://localhost:8080/",
          "height": 34
        },
        "outputId": "1cb29a46-2044-488c-e9c2-158b6f8ac287"
      },
      "cell_type": "code",
      "source": [
        "print('total validation images:', len(os.listdir(val_dir)))"
      ],
      "execution_count": 7,
      "outputs": [
        {
          "output_type": "stream",
          "text": [
            "total validation images: 2\n"
          ],
          "name": "stdout"
        }
      ]
    },
    {
      "metadata": {
        "id": "SnvpVq34UT1H",
        "colab_type": "code",
        "colab": {}
      },
      "cell_type": "code",
      "source": [
        "# Building the Model \n",
        "\n",
        "model2 = models.Sequential()\n",
        "model2.add(layers.Conv2D(32, (3, 3), activation = 'relu', input_shape = (150, 150, 3)))\n",
        "model2.add(layers.MaxPooling2D(2, 2))\n",
        "model2.add(layers.Conv2D(64, (3, 3), activation = 'relu'))\n",
        "model2.add(layers.MaxPooling2D(2, 2))\n",
        "model2.add(layers.Conv2D(128, (3, 3), activation = 'relu'))\n",
        "model2.add(layers.MaxPooling2D(2, 2))\n",
        "model2.add(layers.Conv2D(128, (3, 3), activation = 'relu'))\n",
        "model2.add(layers.MaxPooling2D(2, 2))\n",
        "model2.add(layers.Flatten())\n",
        "model2.add(layers.Dense(512, activation = 'relu'))\n",
        "model2.add(layers.Dense(1, activation = 'sigmoid'))"
      ],
      "execution_count": 0,
      "outputs": []
    },
    {
      "metadata": {
        "id": "JGclIevKUd0O",
        "colab_type": "code",
        "colab": {
          "base_uri": "https://localhost:8080/",
          "height": 521
        },
        "outputId": "86de1522-971e-45a2-cd3a-408446e99a9a"
      },
      "cell_type": "code",
      "source": [
        "model2.summary()"
      ],
      "execution_count": 9,
      "outputs": [
        {
          "output_type": "stream",
          "text": [
            "_________________________________________________________________\n",
            "Layer (type)                 Output Shape              Param #   \n",
            "=================================================================\n",
            "conv2d_1 (Conv2D)            (None, 148, 148, 32)      896       \n",
            "_________________________________________________________________\n",
            "max_pooling2d_1 (MaxPooling2 (None, 74, 74, 32)        0         \n",
            "_________________________________________________________________\n",
            "conv2d_2 (Conv2D)            (None, 72, 72, 64)        18496     \n",
            "_________________________________________________________________\n",
            "max_pooling2d_2 (MaxPooling2 (None, 36, 36, 64)        0         \n",
            "_________________________________________________________________\n",
            "conv2d_3 (Conv2D)            (None, 34, 34, 128)       73856     \n",
            "_________________________________________________________________\n",
            "max_pooling2d_3 (MaxPooling2 (None, 17, 17, 128)       0         \n",
            "_________________________________________________________________\n",
            "conv2d_4 (Conv2D)            (None, 15, 15, 128)       147584    \n",
            "_________________________________________________________________\n",
            "max_pooling2d_4 (MaxPooling2 (None, 7, 7, 128)         0         \n",
            "_________________________________________________________________\n",
            "flatten_1 (Flatten)          (None, 6272)              0         \n",
            "_________________________________________________________________\n",
            "dense_1 (Dense)              (None, 512)               3211776   \n",
            "_________________________________________________________________\n",
            "dense_2 (Dense)              (None, 1)                 513       \n",
            "=================================================================\n",
            "Total params: 3,453,121\n",
            "Trainable params: 3,453,121\n",
            "Non-trainable params: 0\n",
            "_________________________________________________________________\n"
          ],
          "name": "stdout"
        }
      ]
    },
    {
      "metadata": {
        "id": "bHql6Yo4UgMR",
        "colab_type": "code",
        "colab": {}
      },
      "cell_type": "code",
      "source": [
        "# Compiling the Model\n",
        "\n",
        "model2.compile(optimizer = optimizers.RMSprop(lr = 1e-4), loss = 'binary_crossentropy', metrics = ['acc'])"
      ],
      "execution_count": 0,
      "outputs": []
    },
    {
      "metadata": {
        "id": "RF6tx0PiUw56",
        "colab_type": "code",
        "colab": {
          "base_uri": "https://localhost:8080/",
          "height": 52
        },
        "outputId": "4a53cd80-886a-419b-8d01-9faf4dd87922"
      },
      "cell_type": "code",
      "source": [
        "# Preprocessing and Data Augmentation\n",
        "\n",
        "train_datagen = ImageDataGenerator(rescale = 1./255, rotation_range = 40, width_shift_range = 0.2, height_shift_range = 0.2, shear_range = 0.2, zoom_range = 0.2, horizontal_flip = True)\n",
        "test_datagen = ImageDataGenerator(rescale = 1./255)\n",
        "\n",
        "train_generator = train_datagen.flow_from_directory(train_dir, target_size = (150, 150), batch_size = 20, class_mode = 'binary')\n",
        "val_generator = test_datagen.flow_from_directory(val_dir, target_size = (150, 150), batch_size = 20, class_mode = 'binary')"
      ],
      "execution_count": 11,
      "outputs": [
        {
          "output_type": "stream",
          "text": [
            "Found 2000 images belonging to 2 classes.\n",
            "Found 1000 images belonging to 2 classes.\n"
          ],
          "name": "stdout"
        }
      ]
    },
    {
      "metadata": {
        "id": "FB5y-6QXWN0R",
        "colab_type": "code",
        "colab": {
          "base_uri": "https://localhost:8080/",
          "height": 52
        },
        "outputId": "12e9a0c0-a09f-49a6-e2f4-1859ed2be8aa"
      },
      "cell_type": "code",
      "source": [
        "# Looking at the Output of Image Data Generator\n",
        "\n",
        "for data_batch, labels_batch in train_generator:\n",
        "  print('Data Batch Shape', data_batch.shape)\n",
        "  print('Labels Batch Shape', labels_batch.shape)\n",
        "  break"
      ],
      "execution_count": 12,
      "outputs": [
        {
          "output_type": "stream",
          "text": [
            "Data Batch Shape (20, 150, 150, 3)\n",
            "Labels Batch Shape (20,)\n"
          ],
          "name": "stdout"
        }
      ]
    },
    {
      "metadata": {
        "id": "qJkLvhL7WWE1",
        "colab_type": "code",
        "colab": {
          "base_uri": "https://localhost:8080/",
          "height": 1754
        },
        "outputId": "1f7d36c2-84e9-4fd5-bd75-089c294744cf"
      },
      "cell_type": "code",
      "source": [
        "# Training\n",
        "\n",
        "history = model2.fit_generator(train_generator, steps_per_epoch = 100, epochs = 50, validation_data = val_generator, validation_steps = 50)\n"
      ],
      "execution_count": 13,
      "outputs": [
        {
          "output_type": "stream",
          "text": [
            "Epoch 1/50\n",
            "100/100 [==============================] - 46s 459ms/step - loss: 0.6937 - acc: 0.5260 - val_loss: 0.6802 - val_acc: 0.5740\n",
            "Epoch 2/50\n",
            "100/100 [==============================] - 42s 416ms/step - loss: 0.6771 - acc: 0.5630 - val_loss: 0.6692 - val_acc: 0.5630\n",
            "Epoch 3/50\n",
            "100/100 [==============================] - 39s 391ms/step - loss: 0.6640 - acc: 0.5950 - val_loss: 0.6398 - val_acc: 0.6150\n",
            "Epoch 4/50\n",
            "100/100 [==============================] - 43s 430ms/step - loss: 0.6460 - acc: 0.6345 - val_loss: 0.6403 - val_acc: 0.6230\n",
            "Epoch 5/50\n",
            "100/100 [==============================] - 44s 439ms/step - loss: 0.6246 - acc: 0.6580 - val_loss: 0.6246 - val_acc: 0.6310\n",
            "Epoch 6/50\n",
            "100/100 [==============================] - 43s 426ms/step - loss: 0.6230 - acc: 0.6485 - val_loss: 0.6072 - val_acc: 0.6600\n",
            "Epoch 7/50\n",
            "100/100 [==============================] - 40s 401ms/step - loss: 0.6050 - acc: 0.6740 - val_loss: 0.5758 - val_acc: 0.6950\n",
            "Epoch 8/50\n",
            "100/100 [==============================] - 38s 384ms/step - loss: 0.6028 - acc: 0.6550 - val_loss: 0.6537 - val_acc: 0.6130\n",
            "Epoch 9/50\n",
            "100/100 [==============================] - 42s 418ms/step - loss: 0.5838 - acc: 0.6890 - val_loss: 0.5833 - val_acc: 0.6780\n",
            "Epoch 10/50\n",
            "100/100 [==============================] - 42s 416ms/step - loss: 0.5717 - acc: 0.6970 - val_loss: 0.5516 - val_acc: 0.7180\n",
            "Epoch 11/50\n",
            "100/100 [==============================] - 41s 412ms/step - loss: 0.5699 - acc: 0.6970 - val_loss: 0.5455 - val_acc: 0.7280\n",
            "Epoch 12/50\n",
            "100/100 [==============================] - 42s 422ms/step - loss: 0.5500 - acc: 0.7200 - val_loss: 0.5787 - val_acc: 0.6920\n",
            "Epoch 13/50\n",
            "100/100 [==============================] - 42s 419ms/step - loss: 0.5508 - acc: 0.7150 - val_loss: 0.5342 - val_acc: 0.7260\n",
            "Epoch 14/50\n",
            "100/100 [==============================] - 39s 385ms/step - loss: 0.5474 - acc: 0.7125 - val_loss: 0.6270 - val_acc: 0.6570\n",
            "Epoch 15/50\n",
            "100/100 [==============================] - 38s 385ms/step - loss: 0.5483 - acc: 0.7145 - val_loss: 0.5149 - val_acc: 0.7450\n",
            "Epoch 16/50\n",
            "100/100 [==============================] - 39s 393ms/step - loss: 0.5309 - acc: 0.7395 - val_loss: 0.5877 - val_acc: 0.6880\n",
            "Epoch 17/50\n",
            "100/100 [==============================] - 37s 374ms/step - loss: 0.5465 - acc: 0.7130 - val_loss: 0.5088 - val_acc: 0.7520\n",
            "Epoch 18/50\n",
            "100/100 [==============================] - 38s 382ms/step - loss: 0.5306 - acc: 0.7300 - val_loss: 0.4889 - val_acc: 0.7680\n",
            "Epoch 19/50\n",
            "100/100 [==============================] - 39s 387ms/step - loss: 0.5312 - acc: 0.7345 - val_loss: 0.5128 - val_acc: 0.7200\n",
            "Epoch 20/50\n",
            "100/100 [==============================] - 38s 380ms/step - loss: 0.5240 - acc: 0.7360 - val_loss: 0.4808 - val_acc: 0.7700\n",
            "Epoch 21/50\n",
            "100/100 [==============================] - 39s 386ms/step - loss: 0.5283 - acc: 0.7315 - val_loss: 0.5222 - val_acc: 0.7530\n",
            "Epoch 22/50\n",
            "100/100 [==============================] - 39s 390ms/step - loss: 0.5102 - acc: 0.7535 - val_loss: 0.5433 - val_acc: 0.7160\n",
            "Epoch 23/50\n",
            "100/100 [==============================] - 38s 380ms/step - loss: 0.5149 - acc: 0.7415 - val_loss: 0.4795 - val_acc: 0.7780\n",
            "Epoch 24/50\n",
            "100/100 [==============================] - 39s 391ms/step - loss: 0.5087 - acc: 0.7485 - val_loss: 0.5076 - val_acc: 0.7510\n",
            "Epoch 25/50\n",
            "100/100 [==============================] - 38s 381ms/step - loss: 0.5093 - acc: 0.7415 - val_loss: 0.4639 - val_acc: 0.7780\n",
            "Epoch 26/50\n",
            "100/100 [==============================] - 38s 380ms/step - loss: 0.5077 - acc: 0.7525 - val_loss: 0.4854 - val_acc: 0.7720\n",
            "Epoch 27/50\n",
            "100/100 [==============================] - 38s 380ms/step - loss: 0.4906 - acc: 0.7685 - val_loss: 0.4678 - val_acc: 0.7720\n",
            "Epoch 28/50\n",
            "100/100 [==============================] - 39s 386ms/step - loss: 0.4912 - acc: 0.7665 - val_loss: 0.4848 - val_acc: 0.7520\n",
            "Epoch 29/50\n",
            "100/100 [==============================] - 39s 391ms/step - loss: 0.4945 - acc: 0.7590 - val_loss: 0.4714 - val_acc: 0.7700\n",
            "Epoch 30/50\n",
            "100/100 [==============================] - 39s 395ms/step - loss: 0.4969 - acc: 0.7520 - val_loss: 0.4893 - val_acc: 0.7430\n",
            "Epoch 31/50\n",
            "100/100 [==============================] - 43s 432ms/step - loss: 0.4814 - acc: 0.7705 - val_loss: 0.5435 - val_acc: 0.7510\n",
            "Epoch 32/50\n",
            "100/100 [==============================] - 44s 442ms/step - loss: 0.4810 - acc: 0.7690 - val_loss: 0.4697 - val_acc: 0.7780\n",
            "Epoch 33/50\n",
            "100/100 [==============================] - 40s 399ms/step - loss: 0.4758 - acc: 0.7645 - val_loss: 0.5172 - val_acc: 0.7530\n",
            "Epoch 34/50\n",
            "100/100 [==============================] - 41s 406ms/step - loss: 0.4907 - acc: 0.7655 - val_loss: 0.4786 - val_acc: 0.7610\n",
            "Epoch 35/50\n",
            "100/100 [==============================] - 41s 412ms/step - loss: 0.4801 - acc: 0.7625 - val_loss: 0.4903 - val_acc: 0.7700\n",
            "Epoch 36/50\n",
            "100/100 [==============================] - 39s 395ms/step - loss: 0.4796 - acc: 0.7650 - val_loss: 0.4961 - val_acc: 0.7660\n",
            "Epoch 37/50\n",
            "100/100 [==============================] - 43s 426ms/step - loss: 0.4616 - acc: 0.7750 - val_loss: 0.4618 - val_acc: 0.7840\n",
            "Epoch 38/50\n",
            "100/100 [==============================] - 54s 542ms/step - loss: 0.4754 - acc: 0.7645 - val_loss: 0.4419 - val_acc: 0.7960\n",
            "Epoch 39/50\n",
            "100/100 [==============================] - 51s 506ms/step - loss: 0.4776 - acc: 0.7585 - val_loss: 0.4626 - val_acc: 0.7740\n",
            "Epoch 40/50\n",
            "100/100 [==============================] - 43s 427ms/step - loss: 0.4646 - acc: 0.7705 - val_loss: 0.4732 - val_acc: 0.7790\n",
            "Epoch 41/50\n",
            "100/100 [==============================] - 42s 423ms/step - loss: 0.4608 - acc: 0.7810 - val_loss: 0.4441 - val_acc: 0.7820\n",
            "Epoch 42/50\n",
            "100/100 [==============================] - 40s 404ms/step - loss: 0.4548 - acc: 0.7875 - val_loss: 0.6147 - val_acc: 0.7380\n",
            "Epoch 43/50\n",
            "100/100 [==============================] - 38s 382ms/step - loss: 0.4513 - acc: 0.7895 - val_loss: 0.4597 - val_acc: 0.7710\n",
            "Epoch 44/50\n",
            "100/100 [==============================] - 39s 392ms/step - loss: 0.4440 - acc: 0.7885 - val_loss: 0.4541 - val_acc: 0.7810\n",
            "Epoch 45/50\n",
            "100/100 [==============================] - 39s 391ms/step - loss: 0.4566 - acc: 0.7825 - val_loss: 0.4566 - val_acc: 0.7690\n",
            "Epoch 46/50\n",
            "100/100 [==============================] - 38s 382ms/step - loss: 0.4492 - acc: 0.7975 - val_loss: 0.4405 - val_acc: 0.7860\n",
            "Epoch 47/50\n",
            "100/100 [==============================] - 38s 379ms/step - loss: 0.4512 - acc: 0.7835 - val_loss: 0.4557 - val_acc: 0.7770\n",
            "Epoch 48/50\n",
            "100/100 [==============================] - 38s 379ms/step - loss: 0.4353 - acc: 0.7940 - val_loss: 0.5430 - val_acc: 0.7420\n",
            "Epoch 49/50\n",
            "100/100 [==============================] - 39s 388ms/step - loss: 0.4356 - acc: 0.7965 - val_loss: 0.4436 - val_acc: 0.7910\n",
            "Epoch 50/50\n",
            "100/100 [==============================] - 38s 376ms/step - loss: 0.4369 - acc: 0.7880 - val_loss: 0.4699 - val_acc: 0.7770\n"
          ],
          "name": "stdout"
        }
      ]
    },
    {
      "metadata": {
        "id": "4hCClxAlXHxk",
        "colab_type": "code",
        "colab": {}
      },
      "cell_type": "code",
      "source": [
        "acc = history.history['acc']\n",
        "val_acc = history.history['val_acc']\n",
        "loss = history.history['loss']\n",
        "val_loss = history.history['val_loss']"
      ],
      "execution_count": 0,
      "outputs": []
    },
    {
      "metadata": {
        "id": "5ZIvx2ceJkjx",
        "colab_type": "code",
        "colab": {
          "base_uri": "https://localhost:8080/",
          "height": 364
        },
        "outputId": "648b371f-c1f6-44a1-c0a5-2c7d72edcdcb"
      },
      "cell_type": "code",
      "source": [
        "# Training and Validation Loss\n",
        "\n",
        "epochs = range(1, 51)\n",
        "\n",
        "plt.plot(epochs, loss, 'bo', label='Training loss')\n",
        "plt.plot(epochs, val_loss, 'b', label='Validation loss')\n",
        "plt.title('Training and validation loss')\n",
        "plt.legend()\n",
        "plt.show()"
      ],
      "execution_count": 16,
      "outputs": [
        {
          "output_type": "display_data",
          "data": {
            "image/png": "[encoded data removed]",
            "text/plain": [
              "<matplotlib.figure.Figure at 0x7fe29558fb38>"
            ]
          },
          "metadata": {
            "tags": []
          }
        }
      ]
    },
    {
      "metadata": {
        "id": "BJqh3_vqJe4L",
        "colab_type": "code",
        "colab": {
          "base_uri": "https://localhost:8080/",
          "height": 364
        },
        "outputId": "4ba8fd24-960d-4a0c-9d75-d571c26ede47"
      },
      "cell_type": "code",
      "source": [
        "# Training and Validation Accuracy\n",
        "\n",
        "plt.plot(epochs, acc, 'ro', label='Training acc')\n",
        "plt.plot(epochs, val_acc, 'r', label='Validation acc')\n",
        "plt.title('Training and validation accuracy')\n",
        "plt.legend()\n",
        "plt.show()"
      ],
      "execution_count": 17,
      "outputs": [
        {
          "output_type": "display_data",
          "data": {
            "image/png": "[encoded data removed]",
            "text/plain": [
              "<matplotlib.figure.Figure at 0x7fe2955494e0>"
            ]
          },
          "metadata": {
            "tags": []
          }
        }
      ]
    },
    {
      "metadata": {
        "id": "ylIsxNSnJrf6",
        "colab_type": "code",
        "colab": {
          "base_uri": "https://localhost:8080/",
          "height": 52
        },
        "outputId": "b13fad02-eb7f-463c-8d3b-55bc4cfe55a1"
      },
      "cell_type": "code",
      "source": [
        "# Testing\n",
        "\n",
        "test_generator = test_datagen.flow_from_directory(test_dir, target_size = (150, 150), batch_size = 20, class_mode = 'binary')\n",
        "test_loss, test_acc = model2.evaluate_generator(test_generator)\n",
        "test_loss, test_acc"
      ],
      "execution_count": 18,
      "outputs": [
        {
          "output_type": "stream",
          "text": [
            "Found 1007 images belonging to 2 classes.\n"
          ],
          "name": "stdout"
        },
        {
          "output_type": "execute_result",
          "data": {
            "text/plain": [
              "(0.5161490765323469, 0.7725918551660934)"
            ]
          },
          "metadata": {
            "tags": []
          },
          "execution_count": 18
        }
      ]
    },
    {
      "metadata": {
        "id": "bPC3oHmyVw5D",
        "colab_type": "code",
        "colab": {}
      },
      "cell_type": "code",
      "source": [
        ""
      ],
      "execution_count": 0,
      "outputs": []
    }
  ]
}
