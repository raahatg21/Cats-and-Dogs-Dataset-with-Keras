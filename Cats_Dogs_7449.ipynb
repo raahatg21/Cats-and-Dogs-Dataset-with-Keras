{
  "nbformat": 4,
  "nbformat_minor": 0,
  "metadata": {
    "colab": {
      "name": "Cats_Dogs_1.ipynb",
      "version": "0.3.2",
      "provenance": [],
      "collapsed_sections": [],
      "include_colab_link": true
    },
    "kernelspec": {
      "name": "python3",
      "display_name": "Python 3"
    },
    "accelerator": "GPU"
  },
  "cells": [
    {
      "cell_type": "markdown",
      "metadata": {
        "id": "view-in-github",
        "colab_type": "text"
      },
      "source": [
        "[View in Colaboratory](https://colab.research.google.com/github/raahatg21/Cats-and-Dogs-Dataset-with-Keras/blob/master/Cats_Dogs_1.ipynb)"
      ]
    },
    {
      "metadata": {
        "id": "g5kHVH8LnrpI",
        "colab_type": "text"
      },
      "cell_type": "markdown",
      "source": [
        "**Using CNN made from scratch. Dataset consists only of 2,000 training, 1,000 validation and 1,000 testing samples. All images stored in Drive. 73.4% Validation Accuracy. 74.49% Testing Accuracy.**"
      ]
    },
    {
      "metadata": {
        "id": "sWsbr7rinnna",
        "colab_type": "text"
      },
      "cell_type": "markdown",
      "source": [
        "# Cats vs Dogs: Binary Classification"
      ]
    },
    {
      "metadata": {
        "id": "0YstKhQtng0W",
        "colab_type": "code",
        "colab": {}
      },
      "cell_type": "code",
      "source": [
        "import numpy as np\n",
        "import matplotlib.pyplot as plt\n",
        "import pandas as pd\n",
        "import os\n",
        "plt.style.use('fivethirtyeight')"
      ],
      "execution_count": 0,
      "outputs": []
    },
    {
      "metadata": {
        "id": "oZwzBniVn2ib",
        "colab_type": "code",
        "colab": {
          "base_uri": "https://localhost:8080/",
          "height": 34
        },
        "outputId": "7503aa24-b517-4b21-b6af-9e2fbc89e62b"
      },
      "cell_type": "code",
      "source": [
        "from keras import models\n",
        "from keras import layers\n",
        "from keras import optimizers\n",
        "from keras.preprocessing.image import ImageDataGenerator"
      ],
      "execution_count": 2,
      "outputs": [
        {
          "output_type": "stream",
          "text": [
            "Using TensorFlow backend.\n"
          ],
          "name": "stderr"
        }
      ]
    },
    {
      "metadata": {
        "id": "kPCNyrnoo9aM",
        "colab_type": "code",
        "colab": {
          "base_uri": "https://localhost:8080/",
          "height": 2416
        },
        "outputId": "0b6238cd-6317-4079-f83d-3f5fbac6b883"
      },
      "cell_type": "code",
      "source": [
        "# Accessing Google Drive files in Colab\n",
        "\n",
        "!apt-get install -y -qq software-properties-common python-software-properties module-init-tools\n",
        "!add-apt-repository -y ppa:alessandro-strada/ppa 2>&1 > /dev/null\n",
        "!apt-get update -qq 2>&1 > /dev/null\n",
        "!apt-get -y install -qq google-drive-ocamlfuse fuse\n",
        "\n",
        "from google.colab import auth\n",
        "auth.authenticate_user()\n",
        "from oauth2client.client import GoogleCredentials\n",
        "creds = GoogleCredentials.get_application_default()\n",
        "import getpass\n",
        "\n",
        "!google-drive-ocamlfuse -headless -id={creds.client_id} -secret={creds.client_secret} < /dev/null 2>&1 | grep URL\n",
        "vcode = getpass.getpass()\n",
        "!echo {vcode} | google-drive-ocamlfuse -headless -id={creds.client_id} -secret={creds.client_secret}"
      ],
      "execution_count": 3,
      "outputs": [
        {
          "output_type": "stream",
          "text": [
            "Preconfiguring packages ...\n",
            "Selecting previously unselected package cron.\n",
            "(Reading database ... 18408 files and directories currently installed.)\n",
            "Preparing to unpack .../00-cron_3.0pl1-128ubuntu5_amd64.deb ...\n",
            "Unpacking cron (3.0pl1-128ubuntu5) ...\n",
            "Selecting previously unselected package libapparmor1:amd64.\n",
            "Preparing to unpack .../01-libapparmor1_2.11.0-2ubuntu17.1_amd64.deb ...\n",
            "Unpacking libapparmor1:amd64 (2.11.0-2ubuntu17.1) ...\n",
            "Selecting previously unselected package libdbus-1-3:amd64.\n",
            "Preparing to unpack .../02-libdbus-1-3_1.10.22-1ubuntu1_amd64.deb ...\n",
            "Unpacking libdbus-1-3:amd64 (1.10.22-1ubuntu1) ...\n",
            "Selecting previously unselected package dbus.\n",
            "Preparing to unpack .../03-dbus_1.10.22-1ubuntu1_amd64.deb ...\n",
            "Unpacking dbus (1.10.22-1ubuntu1) ...\n",
            "Selecting previously unselected package dirmngr.\n",
            "Preparing to unpack .../04-dirmngr_2.1.15-1ubuntu8.1_amd64.deb ...\n",
            "Unpacking dirmngr (2.1.15-1ubuntu8.1) ...\n",
            "Selecting previously unselected package distro-info-data.\n",
            "Preparing to unpack .../05-distro-info-data_0.36ubuntu0.2_all.deb ...\n",
            "Unpacking distro-info-data (0.36ubuntu0.2) ...\n",
            "Selecting previously unselected package libkmod2:amd64.\n",
            "Preparing to unpack .../06-libkmod2_24-1ubuntu2_amd64.deb ...\n",
            "Unpacking libkmod2:amd64 (24-1ubuntu2) ...\n",
            "Selecting previously unselected package kmod.\n",
            "Preparing to unpack .../07-kmod_24-1ubuntu2_amd64.deb ...\n",
            "Unpacking kmod (24-1ubuntu2) ...\n",
            "Selecting previously unselected package lsb-release.\n",
            "Preparing to unpack .../08-lsb-release_9.20160110ubuntu5_all.deb ...\n",
            "Unpacking lsb-release (9.20160110ubuntu5) ...\n",
            "Selecting previously unselected package libgirepository-1.0-1:amd64.\n",
            "Preparing to unpack .../09-libgirepository-1.0-1_1.54.1-1_amd64.deb ...\n",
            "Unpacking libgirepository-1.0-1:amd64 (1.54.1-1) ...\n",
            "Selecting previously unselected package gir1.2-glib-2.0:amd64.\n",
            "Preparing to unpack .../10-gir1.2-glib-2.0_1.54.1-1_amd64.deb ...\n",
            "Unpacking gir1.2-glib-2.0:amd64 (1.54.1-1) ...\n",
            "Selecting previously unselected package iso-codes.\n",
            "Preparing to unpack .../11-iso-codes_3.75-1_all.deb ...\n",
            "Unpacking iso-codes (3.75-1) ...\n",
            "Selecting previously unselected package libdbus-glib-1-2:amd64.\n",
            "Preparing to unpack .../12-libdbus-glib-1-2_0.108-2_amd64.deb ...\n",
            "Unpacking libdbus-glib-1-2:amd64 (0.108-2) ...\n",
            "Selecting previously unselected package python-apt-common.\n",
            "Preparing to unpack .../13-python-apt-common_1.4.0~beta3build2_all.deb ...\n",
            "Unpacking python-apt-common (1.4.0~beta3build2) ...\n",
            "Selecting previously unselected package python3-apt.\n",
            "Preparing to unpack .../14-python3-apt_1.4.0~beta3build2_amd64.deb ...\n",
            "Unpacking python3-apt (1.4.0~beta3build2) ...\n",
            "Selecting previously unselected package python3-dbus.\n",
            "Preparing to unpack .../15-python3-dbus_1.2.4-1build3_amd64.deb ...\n",
            "Unpacking python3-dbus (1.2.4-1build3) ...\n",
            "Selecting previously unselected package python3-gi.\n",
            "Preparing to unpack .../16-python3-gi_3.24.1-2build1_amd64.deb ...\n",
            "Unpacking python3-gi (3.24.1-2build1) ...\n",
            "Selecting previously unselected package module-init-tools.\n",
            "Preparing to unpack .../17-module-init-tools_24-1ubuntu2_all.deb ...\n",
            "Unpacking module-init-tools (24-1ubuntu2) ...\n",
            "Selecting previously unselected package python-apt.\n",
            "Preparing to unpack .../18-python-apt_1.4.0~beta3build2_amd64.deb ...\n",
            "Unpacking python-apt (1.4.0~beta3build2) ...\n",
            "Selecting previously unselected package python-pycurl.\n",
            "Preparing to unpack .../19-python-pycurl_7.43.0-2build2_amd64.deb ...\n",
            "Unpacking python-pycurl (7.43.0-2build2) ...\n",
            "Selecting previously unselected package python-software-properties.\n",
            "Preparing to unpack .../20-python-software-properties_0.96.24.17_all.deb ...\n",
            "Unpacking python-software-properties (0.96.24.17) ...\n",
            "Selecting previously unselected package python3-software-properties.\n",
            "Preparing to unpack .../21-python3-software-properties_0.96.24.17_all.deb ...\n",
            "Unpacking python3-software-properties (0.96.24.17) ...\n",
            "Selecting previously unselected package software-properties-common.\n",
            "Preparing to unpack .../22-software-properties-common_0.96.24.17_all.deb ...\n",
            "Unpacking software-properties-common (0.96.24.17) ...\n",
            "Selecting previously unselected package unattended-upgrades.\n",
            "Preparing to unpack .../23-unattended-upgrades_0.98ubuntu1.1_all.deb ...\n",
            "Unpacking unattended-upgrades (0.98ubuntu1.1) ...\n",
            "Setting up python-apt-common (1.4.0~beta3build2) ...\n",
            "Setting up python3-apt (1.4.0~beta3build2) ...\n",
            "Setting up iso-codes (3.75-1) ...\n",
            "Setting up distro-info-data (0.36ubuntu0.2) ...\n",
            "Setting up python-pycurl (7.43.0-2build2) ...\n",
            "Setting up lsb-release (9.20160110ubuntu5) ...\n",
            "Setting up libgirepository-1.0-1:amd64 (1.54.1-1) ...\n",
            "Setting up libkmod2:amd64 (24-1ubuntu2) ...\n",
            "Setting up gir1.2-glib-2.0:amd64 (1.54.1-1) ...\n",
            "Processing triggers for libc-bin (2.26-0ubuntu2.1) ...\n",
            "Setting up libapparmor1:amd64 (2.11.0-2ubuntu17.1) ...\n",
            "Setting up unattended-upgrades (0.98ubuntu1.1) ...\n",
            "\n",
            "Creating config file /etc/apt/apt.conf.d/20auto-upgrades with new version\n",
            "\n",
            "Creating config file /etc/apt/apt.conf.d/50unattended-upgrades with new version\n",
            "invoke-rc.d: could not determine current runlevel\n",
            "invoke-rc.d: policy-rc.d denied execution of start.\n",
            "Setting up dirmngr (2.1.15-1ubuntu8.1) ...\n",
            "Setting up cron (3.0pl1-128ubuntu5) ...\n",
            "Adding group `crontab' (GID 102) ...\n",
            "Done.\n",
            "update-rc.d: warning: start and stop actions are no longer supported; falling back to defaults\n",
            "update-rc.d: warning: stop runlevel arguments (1) do not match cron Default-Stop values (none)\n",
            "invoke-rc.d: could not determine current runlevel\n",
            "invoke-rc.d: policy-rc.d denied execution of start.\n",
            "Setting up libdbus-1-3:amd64 (1.10.22-1ubuntu1) ...\n",
            "Setting up kmod (24-1ubuntu2) ...\n",
            "Setting up libdbus-glib-1-2:amd64 (0.108-2) ...\n",
            "Setting up python3-gi (3.24.1-2build1) ...\n",
            "Setting up module-init-tools (24-1ubuntu2) ...\n",
            "Setting up python3-software-properties (0.96.24.17) ...\n",
            "Setting up dbus (1.10.22-1ubuntu1) ...\n",
            "Setting up python-apt (1.4.0~beta3build2) ...\n",
            "Setting up python3-dbus (1.2.4-1build3) ...\n",
            "Setting up python-software-properties (0.96.24.17) ...\n",
            "Setting up software-properties-common (0.96.24.17) ...\n",
            "Processing triggers for libc-bin (2.26-0ubuntu2.1) ...\n",
            "Processing triggers for dbus (1.10.22-1ubuntu1) ...\n",
            "gpg: keybox '/tmp/tmpyp5w6x_c/pubring.gpg' created\n",
            "gpg: /tmp/tmpyp5w6x_c/trustdb.gpg: trustdb created\n",
            "gpg: key AD5F235DF639B041: public key \"Launchpad PPA for Alessandro Strada\" imported\n",
            "gpg: Total number processed: 1\n",
            "gpg:               imported: 1\n",
            "Warning: apt-key output should not be parsed (stdout is not a terminal)\n",
            "Selecting previously unselected package libfuse2:amd64.\n",
            "(Reading database ... 19816 files and directories currently installed.)\n",
            "Preparing to unpack .../libfuse2_2.9.7-1ubuntu1_amd64.deb ...\n",
            "Unpacking libfuse2:amd64 (2.9.7-1ubuntu1) ...\n",
            "Selecting previously unselected package fuse.\n",
            "Preparing to unpack .../fuse_2.9.7-1ubuntu1_amd64.deb ...\n",
            "Unpacking fuse (2.9.7-1ubuntu1) ...\n",
            "Selecting previously unselected package google-drive-ocamlfuse.\n",
            "Preparing to unpack .../google-drive-ocamlfuse_0.6.21-0ubuntu2_amd64.deb ...\n",
            "Unpacking google-drive-ocamlfuse (0.6.21-0ubuntu2) ...\n",
            "Setting up libfuse2:amd64 (2.9.7-1ubuntu1) ...\n",
            "Processing triggers for libc-bin (2.26-0ubuntu2.1) ...\n",
            "Setting up fuse (2.9.7-1ubuntu1) ...\n",
            "Setting up google-drive-ocamlfuse (0.6.21-0ubuntu2) ...\n",
            "Please, open the following URL in a web browser: https://accounts.google.com/o/oauth2/auth?client_id=32555940559.apps.googleusercontent.com&redirect_uri=urn%3Aietf%3Awg%3Aoauth%3A2.0%3Aoob&scope=https%3A%2F%2Fwww.googleapis.com%2Fauth%2Fdrive&response_type=code&access_type=offline&approval_prompt=force\n",
            "··········\n",
            "Please, open the following URL in a web browser: https://accounts.google.com/o/oauth2/auth?client_id=32555940559.apps.googleusercontent.com&redirect_uri=urn%3Aietf%3Awg%3Aoauth%3A2.0%3Aoob&scope=https%3A%2F%2Fwww.googleapis.com%2Fauth%2Fdrive&response_type=code&access_type=offline&approval_prompt=force\n",
            "Please enter the verification code: Access token retrieved correctly.\n"
          ],
          "name": "stdout"
        }
      ]
    },
    {
      "metadata": {
        "id": "oMAStDiepYk2",
        "colab_type": "code",
        "colab": {}
      },
      "cell_type": "code",
      "source": [
        "# Making a directory named 'Drive' and linking it with Google Drive\n",
        "\n",
        "!mkdir -p drive\n",
        "!google-drive-ocamlfuse drive"
      ],
      "execution_count": 0,
      "outputs": []
    },
    {
      "metadata": {
        "id": "CgfqxCmUqfWU",
        "colab_type": "code",
        "colab": {
          "base_uri": "https://localhost:8080/",
          "height": 34
        },
        "outputId": "85f869b9-ff73-4a6e-84dc-6cc30cbdf8ba"
      },
      "cell_type": "code",
      "source": [
        "!ls "
      ],
      "execution_count": 5,
      "outputs": [
        {
          "output_type": "stream",
          "text": [
            "adc.json  drive  sample_data\r\n"
          ],
          "name": "stdout"
        }
      ]
    },
    {
      "metadata": {
        "id": "TooUMJ_4quh1",
        "colab_type": "code",
        "colab": {
          "base_uri": "https://localhost:8080/",
          "height": 34
        },
        "outputId": "cd7cb97d-0b82-4bfb-8487-faed7cd1040b"
      },
      "cell_type": "code",
      "source": [
        "!ls drive/cats_and_dogs_small"
      ],
      "execution_count": 6,
      "outputs": [
        {
          "output_type": "stream",
          "text": [
            "test  train  validation\r\n"
          ],
          "name": "stdout"
        }
      ]
    },
    {
      "metadata": {
        "id": "w8PKUOU-rLmY",
        "colab_type": "code",
        "colab": {
          "base_uri": "https://localhost:8080/",
          "height": 34
        },
        "outputId": "e9fef310-b441-4783-951a-8772fb9effd6"
      },
      "cell_type": "code",
      "source": [
        "!ls drive/cats_and_dogs_small/train"
      ],
      "execution_count": 7,
      "outputs": [
        {
          "output_type": "stream",
          "text": [
            "cats  dogs\r\n"
          ],
          "name": "stdout"
        }
      ]
    },
    {
      "metadata": {
        "id": "ldst8ygaq3jS",
        "colab_type": "code",
        "colab": {}
      },
      "cell_type": "code",
      "source": [
        "train_dir = 'drive/cats_and_dogs_small/train'\n",
        "val_dir = 'drive/cats_and_dogs_small/validation'\n",
        "test_dir = 'drive/cats_and_dogs_small/test'"
      ],
      "execution_count": 0,
      "outputs": []
    },
    {
      "metadata": {
        "id": "drBkrUq6rQS_",
        "colab_type": "code",
        "colab": {
          "base_uri": "https://localhost:8080/",
          "height": 34
        },
        "outputId": "bf248ea1-7919-4f52-bb92-a660b3fc2a77"
      },
      "cell_type": "code",
      "source": [
        "!ls train_dir"
      ],
      "execution_count": 9,
      "outputs": [
        {
          "output_type": "stream",
          "text": [
            "ls: cannot access 'train_dir': No such file or directory\r\n"
          ],
          "name": "stdout"
        }
      ]
    },
    {
      "metadata": {
        "id": "cCJFHh35rS6j",
        "colab_type": "code",
        "colab": {
          "base_uri": "https://localhost:8080/",
          "height": 34
        },
        "outputId": "475aafbd-36e0-4159-9618-164b2ccb747e"
      },
      "cell_type": "code",
      "source": [
        "print('total training images:', len(os.listdir(train_dir)))"
      ],
      "execution_count": 10,
      "outputs": [
        {
          "output_type": "stream",
          "text": [
            "total training images: 2\n"
          ],
          "name": "stdout"
        }
      ]
    },
    {
      "metadata": {
        "id": "MfPBj6vkrtrz",
        "colab_type": "code",
        "colab": {}
      },
      "cell_type": "code",
      "source": [
        "# Building the Model \n",
        "\n",
        "model1 = models.Sequential()\n",
        "model1.add(layers.Conv2D(32, (3, 3), activation = 'relu', input_shape = (150, 150, 3)))\n",
        "model1.add(layers.MaxPooling2D(2, 2))\n",
        "model1.add(layers.Conv2D(64, (3, 3), activation = 'relu'))\n",
        "model1.add(layers.MaxPooling2D(2, 2))\n",
        "model1.add(layers.Conv2D(128, (3, 3), activation = 'relu'))\n",
        "model1.add(layers.MaxPooling2D(2, 2))\n",
        "model1.add(layers.Conv2D(128, (3, 3), activation = 'relu'))\n",
        "model1.add(layers.MaxPooling2D(2, 2))\n",
        "model1.add(layers.Flatten())\n",
        "model1.add(layers.Dense(512, activation = 'relu'))\n",
        "model1.add(layers.Dense(1, activation = 'sigmoid'))"
      ],
      "execution_count": 0,
      "outputs": []
    },
    {
      "metadata": {
        "id": "oIQFRfWYsxiI",
        "colab_type": "code",
        "colab": {
          "base_uri": "https://localhost:8080/",
          "height": 521
        },
        "outputId": "7f820b90-e200-4c90-870e-16368dcc30a1"
      },
      "cell_type": "code",
      "source": [
        "model1.summary()"
      ],
      "execution_count": 12,
      "outputs": [
        {
          "output_type": "stream",
          "text": [
            "_________________________________________________________________\n",
            "Layer (type)                 Output Shape              Param #   \n",
            "=================================================================\n",
            "conv2d_1 (Conv2D)            (None, 148, 148, 32)      896       \n",
            "_________________________________________________________________\n",
            "max_pooling2d_1 (MaxPooling2 (None, 74, 74, 32)        0         \n",
            "_________________________________________________________________\n",
            "conv2d_2 (Conv2D)            (None, 72, 72, 64)        18496     \n",
            "_________________________________________________________________\n",
            "max_pooling2d_2 (MaxPooling2 (None, 36, 36, 64)        0         \n",
            "_________________________________________________________________\n",
            "conv2d_3 (Conv2D)            (None, 34, 34, 128)       73856     \n",
            "_________________________________________________________________\n",
            "max_pooling2d_3 (MaxPooling2 (None, 17, 17, 128)       0         \n",
            "_________________________________________________________________\n",
            "conv2d_4 (Conv2D)            (None, 15, 15, 128)       147584    \n",
            "_________________________________________________________________\n",
            "max_pooling2d_4 (MaxPooling2 (None, 7, 7, 128)         0         \n",
            "_________________________________________________________________\n",
            "flatten_1 (Flatten)          (None, 6272)              0         \n",
            "_________________________________________________________________\n",
            "dense_1 (Dense)              (None, 512)               3211776   \n",
            "_________________________________________________________________\n",
            "dense_2 (Dense)              (None, 1)                 513       \n",
            "=================================================================\n",
            "Total params: 3,453,121\n",
            "Trainable params: 3,453,121\n",
            "Non-trainable params: 0\n",
            "_________________________________________________________________\n"
          ],
          "name": "stdout"
        }
      ]
    },
    {
      "metadata": {
        "id": "pTLpdAeLs3MG",
        "colab_type": "code",
        "colab": {}
      },
      "cell_type": "code",
      "source": [
        "# Compiling the Model\n",
        "\n",
        "model1.compile(optimizer = optimizers.RMSprop(lr = 1e-4), loss = 'binary_crossentropy', metrics = ['acc'])"
      ],
      "execution_count": 0,
      "outputs": []
    },
    {
      "metadata": {
        "id": "-bUplBM9tT73",
        "colab_type": "code",
        "colab": {
          "base_uri": "https://localhost:8080/",
          "height": 52
        },
        "outputId": "ef27cae5-0ad8-4b48-dbc9-5914a1ea4515"
      },
      "cell_type": "code",
      "source": [
        "# Preprocessing Images using Image Data Generator\n",
        "\n",
        "train_datagen = ImageDataGenerator(rescale = 1./255)  # Add parameters here for Data Augmentation\n",
        "test_datagen = ImageDataGenerator(rescale = 1./255)   # Do not add any more parameters here\n",
        "\n",
        "train_generator = train_datagen.flow_from_directory(train_dir, target_size = (150, 150), batch_size = 20, class_mode = 'binary')\n",
        "val_generator = test_datagen.flow_from_directory(val_dir, target_size = (150, 150), batch_size = 20, class_mode = 'binary')"
      ],
      "execution_count": 14,
      "outputs": [
        {
          "output_type": "stream",
          "text": [
            "Found 2000 images belonging to 2 classes.\n",
            "Found 1000 images belonging to 2 classes.\n"
          ],
          "name": "stdout"
        }
      ]
    },
    {
      "metadata": {
        "id": "Bjp6Ysxsufus",
        "colab_type": "code",
        "colab": {
          "base_uri": "https://localhost:8080/",
          "height": 52
        },
        "outputId": "6878a744-d4e7-4394-f1ab-daf195d4d8af"
      },
      "cell_type": "code",
      "source": [
        "# Looking at the Output of Image Data Generator\n",
        "\n",
        "for data_batch, labels_batch in train_generator:\n",
        "  print('Data Batch Shape', data_batch.shape)\n",
        "  print('Labels Batch Shape', labels_batch.shape)\n",
        "  break"
      ],
      "execution_count": 15,
      "outputs": [
        {
          "output_type": "stream",
          "text": [
            "Data Batch Shape (20, 150, 150, 3)\n",
            "Labels Batch Shape (20,)\n"
          ],
          "name": "stdout"
        }
      ]
    },
    {
      "metadata": {
        "id": "xzcAA2HPu-pX",
        "colab_type": "code",
        "colab": {
          "base_uri": "https://localhost:8080/",
          "height": 1059
        },
        "outputId": "f70850ce-4a22-4ddd-d94c-87287dada066"
      },
      "cell_type": "code",
      "source": [
        "# Training\n",
        "\n",
        "history = model1.fit_generator(train_generator, steps_per_epoch = 100, epochs = 30, validation_data = val_generator, validation_steps = 50)\n",
        "\n",
        "# steps_per_epoch = 2000/20 = 100, validation_steps = 1000/20 = 50"
      ],
      "execution_count": 16,
      "outputs": [
        {
          "output_type": "stream",
          "text": [
            "Epoch 1/30\n",
            "100/100 [==============================] - 2165s 22s/step - loss: 0.6915 - acc: 0.5160 - val_loss: 0.6745 - val_acc: 0.6070\n",
            "Epoch 2/30\n",
            "100/100 [==============================] - 29s 286ms/step - loss: 0.6649 - acc: 0.6105 - val_loss: 0.6496 - val_acc: 0.6270\n",
            "Epoch 3/30\n",
            "100/100 [==============================] - 27s 267ms/step - loss: 0.6239 - acc: 0.6695 - val_loss: 0.6282 - val_acc: 0.6330\n",
            "Epoch 4/30\n",
            "100/100 [==============================] - 28s 278ms/step - loss: 0.5794 - acc: 0.6955 - val_loss: 0.6160 - val_acc: 0.6500\n",
            "Epoch 5/30\n",
            "100/100 [==============================] - 27s 272ms/step - loss: 0.5462 - acc: 0.7165 - val_loss: 0.5999 - val_acc: 0.6750\n",
            "Epoch 6/30\n",
            "100/100 [==============================] - 28s 282ms/step - loss: 0.5091 - acc: 0.7530 - val_loss: 0.5844 - val_acc: 0.6870\n",
            "Epoch 7/30\n",
            "100/100 [==============================] - 27s 274ms/step - loss: 0.4778 - acc: 0.7680 - val_loss: 0.5492 - val_acc: 0.7250\n",
            "Epoch 8/30\n",
            "100/100 [==============================] - 28s 281ms/step - loss: 0.4531 - acc: 0.7885 - val_loss: 0.5521 - val_acc: 0.7080\n",
            "Epoch 9/30\n",
            "100/100 [==============================] - 27s 270ms/step - loss: 0.4188 - acc: 0.8105 - val_loss: 0.5676 - val_acc: 0.7130\n",
            "Epoch 10/30\n",
            "100/100 [==============================] - 27s 269ms/step - loss: 0.3855 - acc: 0.8265 - val_loss: 0.5712 - val_acc: 0.7090\n",
            "Epoch 11/30\n",
            "100/100 [==============================] - 28s 281ms/step - loss: 0.3703 - acc: 0.8395 - val_loss: 0.5717 - val_acc: 0.7230\n",
            "Epoch 12/30\n",
            "100/100 [==============================] - 27s 273ms/step - loss: 0.3384 - acc: 0.8605 - val_loss: 0.7459 - val_acc: 0.6640\n",
            "Epoch 13/30\n",
            "100/100 [==============================] - 28s 282ms/step - loss: 0.3168 - acc: 0.8700 - val_loss: 0.6193 - val_acc: 0.7120\n",
            "Epoch 14/30\n",
            "100/100 [==============================] - 27s 270ms/step - loss: 0.2895 - acc: 0.8730 - val_loss: 0.5857 - val_acc: 0.7120\n",
            "Epoch 15/30\n",
            "100/100 [==============================] - 28s 284ms/step - loss: 0.2651 - acc: 0.8895 - val_loss: 0.6212 - val_acc: 0.7270\n",
            "Epoch 16/30\n",
            "100/100 [==============================] - 27s 270ms/step - loss: 0.2417 - acc: 0.9025 - val_loss: 0.6277 - val_acc: 0.7210\n",
            "Epoch 17/30\n",
            "100/100 [==============================] - 28s 284ms/step - loss: 0.2177 - acc: 0.9125 - val_loss: 0.6310 - val_acc: 0.7310\n",
            "Epoch 18/30\n",
            "100/100 [==============================] - 27s 270ms/step - loss: 0.1947 - acc: 0.9260 - val_loss: 0.6314 - val_acc: 0.7320\n",
            "Epoch 19/30\n",
            "100/100 [==============================] - 28s 283ms/step - loss: 0.1719 - acc: 0.9315 - val_loss: 0.7946 - val_acc: 0.7140\n",
            "Epoch 20/30\n",
            "100/100 [==============================] - 27s 270ms/step - loss: 0.1554 - acc: 0.9450 - val_loss: 0.6906 - val_acc: 0.7310\n",
            "Epoch 21/30\n",
            "100/100 [==============================] - 27s 268ms/step - loss: 0.1313 - acc: 0.9540 - val_loss: 0.7255 - val_acc: 0.7280\n",
            "Epoch 22/30\n",
            "100/100 [==============================] - 28s 281ms/step - loss: 0.1169 - acc: 0.9575 - val_loss: 0.7931 - val_acc: 0.7120\n",
            "Epoch 23/30\n",
            "100/100 [==============================] - 27s 266ms/step - loss: 0.0964 - acc: 0.9715 - val_loss: 0.7767 - val_acc: 0.7360\n",
            "Epoch 24/30\n",
            "100/100 [==============================] - 28s 282ms/step - loss: 0.0900 - acc: 0.9715 - val_loss: 0.7674 - val_acc: 0.7290\n",
            "Epoch 25/30\n",
            "100/100 [==============================] - 27s 272ms/step - loss: 0.0727 - acc: 0.9775 - val_loss: 0.7621 - val_acc: 0.7300\n",
            "Epoch 26/30\n",
            "100/100 [==============================] - 28s 280ms/step - loss: 0.0579 - acc: 0.9845 - val_loss: 0.8634 - val_acc: 0.7240\n",
            "Epoch 27/30\n",
            "100/100 [==============================] - 27s 271ms/step - loss: 0.0542 - acc: 0.9830 - val_loss: 0.9173 - val_acc: 0.7270\n",
            "Epoch 28/30\n",
            "100/100 [==============================] - 28s 279ms/step - loss: 0.0435 - acc: 0.9900 - val_loss: 1.0321 - val_acc: 0.7250\n",
            "Epoch 29/30\n",
            "100/100 [==============================] - 27s 267ms/step - loss: 0.0366 - acc: 0.9935 - val_loss: 1.1483 - val_acc: 0.6950\n",
            "Epoch 30/30\n",
            "100/100 [==============================] - 28s 278ms/step - loss: 0.0294 - acc: 0.9945 - val_loss: 1.0191 - val_acc: 0.7340\n"
          ],
          "name": "stdout"
        }
      ]
    },
    {
      "metadata": {
        "id": "PPbIOXD53g0S",
        "colab_type": "code",
        "colab": {}
      },
      "cell_type": "code",
      "source": [
        "acc = history.history['acc']\n",
        "val_acc = history.history['val_acc']\n",
        "loss = history.history['loss']\n",
        "val_loss = history.history['val_loss']"
      ],
      "execution_count": 0,
      "outputs": []
    },
    {
      "metadata": {
        "id": "e70P7Yaf_wSO",
        "colab_type": "code",
        "colab": {
          "base_uri": "https://localhost:8080/",
          "height": 390
        },
        "outputId": "31827f3e-c777-467e-cf11-a1f282a17124"
      },
      "cell_type": "code",
      "source": [
        "# Plotting Training and Validation Loss\n",
        "\n",
        "epochs = range(1, 31)\n",
        "plt.plot(epochs, loss, 'bo', label='Training Loss')\n",
        "plt.plot(epochs, val_loss, 'b', label='Validation Loss')\n",
        "plt.title('Training and validation Loss')\n",
        "plt.legend()\n",
        "plt.show()"
      ],
      "execution_count": 18,
      "outputs": [
        {
          "output_type": "display_data",
          "data": {
            "image/png": "[encoded data removed]",
            "text/plain": [
              "<matplotlib.figure.Figure at 0x7f2faaef6390>"
            ]
          },
          "metadata": {
            "tags": []
          }
        }
      ]
    },
    {
      "metadata": {
        "id": "PxquDbwpAA31",
        "colab_type": "code",
        "colab": {
          "base_uri": "https://localhost:8080/",
          "height": 390
        },
        "outputId": "5946933a-9470-40cf-887e-5dda498fbaf0"
      },
      "cell_type": "code",
      "source": [
        "# Plotting Training and Validation Accuracy\n",
        "\n",
        "plt.plot(epochs, acc, 'ko', label='Training acc')\n",
        "plt.plot(epochs, val_acc, 'k', label='Validation acc')\n",
        "plt.title('Training and validation accuracy')\n",
        "plt.legend()\n",
        "plt.show()"
      ],
      "execution_count": 19,
      "outputs": [
        {
          "output_type": "display_data",
          "data": {
            "image/png": "[encoded data removed]",
            "text/plain": [
              "<matplotlib.figure.Figure at 0x7f2fc7e514e0>"
            ]
          },
          "metadata": {
            "tags": []
          }
        }
      ]
    },
    {
      "metadata": {
        "id": "m3WxmHzfANMm",
        "colab_type": "code",
        "colab": {
          "base_uri": "https://localhost:8080/",
          "height": 52
        },
        "outputId": "c75ebd3c-d636-4c29-8e24-4efbca0ad46f"
      },
      "cell_type": "code",
      "source": [
        "# Testing\n",
        "\n",
        "test_generator = test_datagen.flow_from_directory(test_dir, target_size=(150, 150), batch_size=20, class_mode='binary')\n",
        "test_loss, test_acc = model1.evaluate_generator(test_generator, steps=50)\n",
        "print('test acc:', test_acc)"
      ],
      "execution_count": 20,
      "outputs": [
        {
          "output_type": "stream",
          "text": [
            "Found 1007 images belonging to 2 classes.\n",
            "test acc: 0.7449999976158143\n"
          ],
          "name": "stdout"
        }
      ]
    },
    {
      "metadata": {
        "id": "dAbTyXDFJqMv",
        "colab_type": "code",
        "colab": {}
      },
      "cell_type": "code",
      "source": [
        ""
      ],
      "execution_count": 0,
      "outputs": []
    }
  ]
}
