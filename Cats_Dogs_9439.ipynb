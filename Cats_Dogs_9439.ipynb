{
  "nbformat": 4,
  "nbformat_minor": 0,
  "metadata": {
    "colab": {
      "name": "Cats_Dogs_4.ipynb",
      "version": "0.3.2",
      "provenance": [],
      "collapsed_sections": [],
      "include_colab_link": true
    },
    "kernelspec": {
      "name": "python3",
      "display_name": "Python 3"
    }
  },
  "cells": [
    {
      "cell_type": "markdown",
      "metadata": {
        "id": "view-in-github",
        "colab_type": "text"
      },
      "source": [
        "[View in Colaboratory](https://colab.research.google.com/github/raahatg21/Cats-and-Dogs-Dataset-with-Keras/blob/master/Cats_Dogs_4.ipynb)"
      ]
    },
    {
      "metadata": {
        "id": "zYGIED563Poq",
        "colab_type": "text"
      },
      "cell_type": "markdown",
      "source": [
        "# Cats vs Dogs: Binary Classification"
      ]
    },
    {
      "metadata": {
        "id": "xGgJVKZq3TUy",
        "colab_type": "text"
      },
      "cell_type": "markdown",
      "source": [
        "**Using Pretrained VGG16 Model with Data Augmentation and Fine Tuning. 94% Validation Accuracy. 94.39% Testing Accuracy.**"
      ]
    },
    {
      "metadata": {
        "id": "h7FmSmwI3MSG",
        "colab_type": "code",
        "colab": {}
      },
      "cell_type": "code",
      "source": [
        "import os\n",
        "import numpy as np\n",
        "import matplotlib.pyplot as plt"
      ],
      "execution_count": 0,
      "outputs": []
    },
    {
      "metadata": {
        "id": "DE48dTny3m7H",
        "colab_type": "code",
        "colab": {
          "base_uri": "https://localhost:8080/",
          "height": 34
        },
        "outputId": "7f607cab-bbf8-47a0-ba9c-5738af4e9996"
      },
      "cell_type": "code",
      "source": [
        "from keras import layers\n",
        "from keras import models\n",
        "from keras import optimizers\n",
        "from keras.applications import VGG16\n",
        "from keras.preprocessing.image import ImageDataGenerator"
      ],
      "execution_count": 2,
      "outputs": [
        {
          "output_type": "stream",
          "text": [
            "Using TensorFlow backend.\n"
          ],
          "name": "stderr"
        }
      ]
    },
    {
      "metadata": {
        "id": "1JaxbfRX32k6",
        "colab_type": "code",
        "colab": {
          "base_uri": "https://localhost:8080/",
          "height": 211
        },
        "outputId": "126001a5-557c-40ce-e4d0-2601bda9c14d"
      },
      "cell_type": "code",
      "source": [
        "# Making Google Colab use the Drive files\n",
        "\n",
        "!apt-get install -y -qq software-properties-common python-software-properties module-init-tools\n",
        "!add-apt-repository -y ppa:alessandro-strada/ppa 2>&1 > /dev/null\n",
        "!apt-get update -qq 2>&1 > /dev/null\n",
        "!apt-get -y install -qq google-drive-ocamlfuse fuse\n",
        "\n",
        "from google.colab import auth\n",
        "auth.authenticate_user()\n",
        "from oauth2client.client import GoogleCredentials\n",
        "creds = GoogleCredentials.get_application_default()\n",
        "import getpass\n",
        "\n",
        "!google-drive-ocamlfuse -headless -id={creds.client_id} -secret={creds.client_secret} < /dev/null 2>&1 | grep URL\n",
        "vcode = getpass.getpass()\n",
        "!echo {vcode} | google-drive-ocamlfuse -headless -id={creds.client_id} -secret={creds.client_secret}"
      ],
      "execution_count": 3,
      "outputs": [
        {
          "output_type": "stream",
          "text": [
            "gpg: keybox '/tmp/tmprshmddq8/pubring.gpg' created\n",
            "gpg: /tmp/tmprshmddq8/trustdb.gpg: trustdb created\n",
            "gpg: key AD5F235DF639B041: public key \"Launchpad PPA for Alessandro Strada\" imported\n",
            "gpg: Total number processed: 1\n",
            "gpg:               imported: 1\n",
            "Warning: apt-key output should not be parsed (stdout is not a terminal)\n",
            "Please, open the following URL in a web browser: https://accounts.google.com/o/oauth2/auth?client_id=32555940559.apps.googleusercontent.com&redirect_uri=urn%3Aietf%3Awg%3Aoauth%3A2.0%3Aoob&scope=https%3A%2F%2Fwww.googleapis.com%2Fauth%2Fdrive&response_type=code&access_type=offline&approval_prompt=force\n",
            "··········\n",
            "Please, open the following URL in a web browser: https://accounts.google.com/o/oauth2/auth?client_id=32555940559.apps.googleusercontent.com&redirect_uri=urn%3Aietf%3Awg%3Aoauth%3A2.0%3Aoob&scope=https%3A%2F%2Fwww.googleapis.com%2Fauth%2Fdrive&response_type=code&access_type=offline&approval_prompt=force\n",
            "Please enter the verification code: Access token retrieved correctly.\n"
          ],
          "name": "stdout"
        }
      ]
    },
    {
      "metadata": {
        "id": "fI4DHs2C4DBS",
        "colab_type": "code",
        "colab": {}
      },
      "cell_type": "code",
      "source": [
        "!mkdir -p drive\n",
        "!google-drive-ocamlfuse drive"
      ],
      "execution_count": 0,
      "outputs": []
    },
    {
      "metadata": {
        "id": "CpsrZtHF4Pr3",
        "colab_type": "code",
        "colab": {
          "base_uri": "https://localhost:8080/",
          "height": 34
        },
        "outputId": "e9b1e108-16c5-4d3e-cd43-4f36864bdefa"
      },
      "cell_type": "code",
      "source": [
        "!ls"
      ],
      "execution_count": 5,
      "outputs": [
        {
          "output_type": "stream",
          "text": [
            "adc.json  datalab  drive  sample_data\r\n"
          ],
          "name": "stdout"
        }
      ]
    },
    {
      "metadata": {
        "id": "l8v_8d8f4VeU",
        "colab_type": "code",
        "colab": {}
      },
      "cell_type": "code",
      "source": [
        "train_dir = 'drive/cats_and_dogs_small/train'\n",
        "val_dir = 'drive/cats_and_dogs_small/validation'\n",
        "test_dir = 'drive/cats_and_dogs_small/test'"
      ],
      "execution_count": 0,
      "outputs": []
    },
    {
      "metadata": {
        "id": "lFR5qaDv4jmh",
        "colab_type": "code",
        "colab": {
          "base_uri": "https://localhost:8080/",
          "height": 52
        },
        "outputId": "a6a944f2-ead8-4b42-d2aa-911b6becf094"
      },
      "cell_type": "code",
      "source": [
        "# Extracting the Pre-trained Model\n",
        "\n",
        "conv_base = VGG16(weights = 'imagenet', include_top = False, input_shape = (150, 150, 3))"
      ],
      "execution_count": 7,
      "outputs": [
        {
          "output_type": "stream",
          "text": [
            "Downloading data from https://github.com/fchollet/deep-learning-models/releases/download/v0.1/vgg16_weights_tf_dim_ordering_tf_kernels_notop.h5\n",
            "58892288/58889256 [==============================] - 4s 0us/step\n"
          ],
          "name": "stdout"
        }
      ]
    },
    {
      "metadata": {
        "id": "aYrsFtJL48VZ",
        "colab_type": "code",
        "colab": {
          "base_uri": "https://localhost:8080/",
          "height": 799
        },
        "outputId": "afbc98ff-98a8-4d7e-fa21-c2731746c0ce"
      },
      "cell_type": "code",
      "source": [
        "conv_base.summary()"
      ],
      "execution_count": 8,
      "outputs": [
        {
          "output_type": "stream",
          "text": [
            "_________________________________________________________________\n",
            "Layer (type)                 Output Shape              Param #   \n",
            "=================================================================\n",
            "input_1 (InputLayer)         (None, 150, 150, 3)       0         \n",
            "_________________________________________________________________\n",
            "block1_conv1 (Conv2D)        (None, 150, 150, 64)      1792      \n",
            "_________________________________________________________________\n",
            "block1_conv2 (Conv2D)        (None, 150, 150, 64)      36928     \n",
            "_________________________________________________________________\n",
            "block1_pool (MaxPooling2D)   (None, 75, 75, 64)        0         \n",
            "_________________________________________________________________\n",
            "block2_conv1 (Conv2D)        (None, 75, 75, 128)       73856     \n",
            "_________________________________________________________________\n",
            "block2_conv2 (Conv2D)        (None, 75, 75, 128)       147584    \n",
            "_________________________________________________________________\n",
            "block2_pool (MaxPooling2D)   (None, 37, 37, 128)       0         \n",
            "_________________________________________________________________\n",
            "block3_conv1 (Conv2D)        (None, 37, 37, 256)       295168    \n",
            "_________________________________________________________________\n",
            "block3_conv2 (Conv2D)        (None, 37, 37, 256)       590080    \n",
            "_________________________________________________________________\n",
            "block3_conv3 (Conv2D)        (None, 37, 37, 256)       590080    \n",
            "_________________________________________________________________\n",
            "block3_pool (MaxPooling2D)   (None, 18, 18, 256)       0         \n",
            "_________________________________________________________________\n",
            "block4_conv1 (Conv2D)        (None, 18, 18, 512)       1180160   \n",
            "_________________________________________________________________\n",
            "block4_conv2 (Conv2D)        (None, 18, 18, 512)       2359808   \n",
            "_________________________________________________________________\n",
            "block4_conv3 (Conv2D)        (None, 18, 18, 512)       2359808   \n",
            "_________________________________________________________________\n",
            "block4_pool (MaxPooling2D)   (None, 9, 9, 512)         0         \n",
            "_________________________________________________________________\n",
            "block5_conv1 (Conv2D)        (None, 9, 9, 512)         2359808   \n",
            "_________________________________________________________________\n",
            "block5_conv2 (Conv2D)        (None, 9, 9, 512)         2359808   \n",
            "_________________________________________________________________\n",
            "block5_conv3 (Conv2D)        (None, 9, 9, 512)         2359808   \n",
            "_________________________________________________________________\n",
            "block5_pool (MaxPooling2D)   (None, 4, 4, 512)         0         \n",
            "=================================================================\n",
            "Total params: 14,714,688\n",
            "Trainable params: 14,714,688\n",
            "Non-trainable params: 0\n",
            "_________________________________________________________________\n"
          ],
          "name": "stdout"
        }
      ]
    },
    {
      "metadata": {
        "id": "ifOMYbyb5AyO",
        "colab_type": "code",
        "colab": {}
      },
      "cell_type": "code",
      "source": [
        "# Extending this model\n",
        "\n",
        "model = models.Sequential()\n",
        "model.add(conv_base)\n",
        "model.add(layers.Flatten())\n",
        "model.add(layers.Dense(256, activation = 'relu'))\n",
        "model.add(layers.Dense(1, activation = 'sigmoid'))"
      ],
      "execution_count": 0,
      "outputs": []
    },
    {
      "metadata": {
        "id": "UgZwAw5N5Zp-",
        "colab_type": "code",
        "colab": {
          "base_uri": "https://localhost:8080/",
          "height": 278
        },
        "outputId": "21cd51d8-34c1-477e-92d4-0f55959071ad"
      },
      "cell_type": "code",
      "source": [
        "model.summary()"
      ],
      "execution_count": 10,
      "outputs": [
        {
          "output_type": "stream",
          "text": [
            "_________________________________________________________________\n",
            "Layer (type)                 Output Shape              Param #   \n",
            "=================================================================\n",
            "vgg16 (Model)                (None, 4, 4, 512)         14714688  \n",
            "_________________________________________________________________\n",
            "flatten_1 (Flatten)          (None, 8192)              0         \n",
            "_________________________________________________________________\n",
            "dense_1 (Dense)              (None, 256)               2097408   \n",
            "_________________________________________________________________\n",
            "dense_2 (Dense)              (None, 1)                 257       \n",
            "=================================================================\n",
            "Total params: 16,812,353\n",
            "Trainable params: 16,812,353\n",
            "Non-trainable params: 0\n",
            "_________________________________________________________________\n"
          ],
          "name": "stdout"
        }
      ]
    },
    {
      "metadata": {
        "id": "V3848Grb5cDw",
        "colab_type": "code",
        "colab": {}
      },
      "cell_type": "code",
      "source": [
        "conv_base.trainable = False"
      ],
      "execution_count": 0,
      "outputs": []
    },
    {
      "metadata": {
        "id": "M_28YevS5my-",
        "colab_type": "code",
        "colab": {}
      },
      "cell_type": "code",
      "source": [
        "# Compiling the Model\n",
        "\n",
        "model.compile(optimizer = optimizers.RMSprop(lr = 2e-5), loss = 'binary_crossentropy', metrics = ['acc'])"
      ],
      "execution_count": 0,
      "outputs": []
    },
    {
      "metadata": {
        "id": "HYs9tzX-56Rb",
        "colab_type": "code",
        "colab": {
          "base_uri": "https://localhost:8080/",
          "height": 52
        },
        "outputId": "2fb3c31f-bafa-4421-b68c-a371ba5b97ff"
      },
      "cell_type": "code",
      "source": [
        "# Preprocessing\n",
        "\n",
        "train_datagen = ImageDataGenerator(rescale = 1./255, rotation_range = 40, width_shift_range = 0.2, height_shift_range = 0.2, shear_range = 0.2, zoom_range = 0.2, horizontal_flip = True, fill_mode = 'nearest')\n",
        "test_datagen = ImageDataGenerator(rescale = 1./255)\n",
        "\n",
        "train_generator = train_datagen.flow_from_directory(train_dir, target_size = (150, 150), batch_size = 20, class_mode = 'binary')\n",
        "val_generator = test_datagen.flow_from_directory(val_dir, target_size = (150, 150), batch_size = 20, class_mode = 'binary')"
      ],
      "execution_count": 13,
      "outputs": [
        {
          "output_type": "stream",
          "text": [
            "Found 2000 images belonging to 2 classes.\n",
            "Found 1000 images belonging to 2 classes.\n"
          ],
          "name": "stdout"
        }
      ]
    },
    {
      "metadata": {
        "id": "sR9wXxGb65E5",
        "colab_type": "code",
        "colab": {
          "base_uri": "https://localhost:8080/",
          "height": 1059
        },
        "outputId": "ac1785cb-5f08-4140-b3ac-1ecff535f98f"
      },
      "cell_type": "code",
      "source": [
        "# Training the Model\n",
        "\n",
        "history = model.fit_generator(train_generator, steps_per_epoch = 100, epochs = 30, validation_data = val_generator, validation_steps = 50)"
      ],
      "execution_count": 14,
      "outputs": [
        {
          "output_type": "stream",
          "text": [
            "Epoch 1/30\n",
            "100/100 [==============================] - 1335s 13s/step - loss: 0.5894 - acc: 0.7020 - val_loss: 0.4531 - val_acc: 0.8290\n",
            "Epoch 2/30\n",
            "100/100 [==============================] - 45s 447ms/step - loss: 0.4772 - acc: 0.7925 - val_loss: 0.3871 - val_acc: 0.8470\n",
            "Epoch 3/30\n",
            "100/100 [==============================] - 45s 448ms/step - loss: 0.4373 - acc: 0.8110 - val_loss: 0.3290 - val_acc: 0.8700\n",
            "Epoch 4/30\n",
            "100/100 [==============================] - 45s 450ms/step - loss: 0.4075 - acc: 0.8235 - val_loss: 0.3053 - val_acc: 0.8810\n",
            "Epoch 5/30\n",
            "100/100 [==============================] - 45s 450ms/step - loss: 0.3844 - acc: 0.8310 - val_loss: 0.3088 - val_acc: 0.8730\n",
            "Epoch 6/30\n",
            "100/100 [==============================] - 45s 455ms/step - loss: 0.3706 - acc: 0.8405 - val_loss: 0.2821 - val_acc: 0.8810\n",
            "Epoch 7/30\n",
            "100/100 [==============================] - 44s 441ms/step - loss: 0.3625 - acc: 0.8445 - val_loss: 0.2711 - val_acc: 0.8810\n",
            "Epoch 8/30\n",
            "100/100 [==============================] - 45s 447ms/step - loss: 0.3466 - acc: 0.8420 - val_loss: 0.2687 - val_acc: 0.8890\n",
            "Epoch 9/30\n",
            "100/100 [==============================] - 45s 447ms/step - loss: 0.3513 - acc: 0.8440 - val_loss: 0.2622 - val_acc: 0.8940\n",
            "Epoch 10/30\n",
            "100/100 [==============================] - 45s 449ms/step - loss: 0.3373 - acc: 0.8585 - val_loss: 0.2595 - val_acc: 0.8910\n",
            "Epoch 11/30\n",
            "100/100 [==============================] - 44s 440ms/step - loss: 0.3439 - acc: 0.8540 - val_loss: 0.2536 - val_acc: 0.9000\n",
            "Epoch 12/30\n",
            "100/100 [==============================] - 44s 442ms/step - loss: 0.3301 - acc: 0.8550 - val_loss: 0.2531 - val_acc: 0.8960\n",
            "Epoch 13/30\n",
            "100/100 [==============================] - 45s 454ms/step - loss: 0.3125 - acc: 0.8710 - val_loss: 0.2488 - val_acc: 0.8960\n",
            "Epoch 14/30\n",
            "100/100 [==============================] - 45s 450ms/step - loss: 0.3215 - acc: 0.8585 - val_loss: 0.2471 - val_acc: 0.8950\n",
            "Epoch 15/30\n",
            "100/100 [==============================] - 43s 433ms/step - loss: 0.3182 - acc: 0.8570 - val_loss: 0.2737 - val_acc: 0.8780\n",
            "Epoch 16/30\n",
            "100/100 [==============================] - 44s 438ms/step - loss: 0.3128 - acc: 0.8620 - val_loss: 0.2466 - val_acc: 0.8960\n",
            "Epoch 17/30\n",
            "100/100 [==============================] - 45s 445ms/step - loss: 0.3190 - acc: 0.8615 - val_loss: 0.2442 - val_acc: 0.8970\n",
            "Epoch 18/30\n",
            "100/100 [==============================] - 44s 438ms/step - loss: 0.2966 - acc: 0.8690 - val_loss: 0.2405 - val_acc: 0.9020\n",
            "Epoch 19/30\n",
            "100/100 [==============================] - 43s 430ms/step - loss: 0.3117 - acc: 0.8600 - val_loss: 0.2408 - val_acc: 0.9000\n",
            "Epoch 20/30\n",
            "100/100 [==============================] - 45s 446ms/step - loss: 0.3018 - acc: 0.8690 - val_loss: 0.2394 - val_acc: 0.9020\n",
            "Epoch 21/30\n",
            "100/100 [==============================] - 44s 443ms/step - loss: 0.3005 - acc: 0.8705 - val_loss: 0.2376 - val_acc: 0.9030\n",
            "Epoch 22/30\n",
            "100/100 [==============================] - 44s 439ms/step - loss: 0.2858 - acc: 0.8795 - val_loss: 0.2405 - val_acc: 0.9020\n",
            "Epoch 23/30\n",
            "100/100 [==============================] - 44s 442ms/step - loss: 0.2873 - acc: 0.8765 - val_loss: 0.2406 - val_acc: 0.9000\n",
            "Epoch 24/30\n",
            "100/100 [==============================] - 44s 439ms/step - loss: 0.2940 - acc: 0.8715 - val_loss: 0.2478 - val_acc: 0.8960\n",
            "Epoch 25/30\n",
            "100/100 [==============================] - 44s 445ms/step - loss: 0.2998 - acc: 0.8745 - val_loss: 0.2428 - val_acc: 0.9030\n",
            "Epoch 26/30\n",
            "100/100 [==============================] - 43s 425ms/step - loss: 0.2835 - acc: 0.8825 - val_loss: 0.2410 - val_acc: 0.9020\n",
            "Epoch 27/30\n",
            "100/100 [==============================] - 44s 435ms/step - loss: 0.2820 - acc: 0.8845 - val_loss: 0.2601 - val_acc: 0.8940\n",
            "Epoch 28/30\n",
            "100/100 [==============================] - 43s 429ms/step - loss: 0.2751 - acc: 0.8875 - val_loss: 0.2401 - val_acc: 0.9010\n",
            "Epoch 29/30\n",
            "100/100 [==============================] - 43s 427ms/step - loss: 0.2918 - acc: 0.8670 - val_loss: 0.2404 - val_acc: 0.9050\n",
            "Epoch 30/30\n",
            "100/100 [==============================] - 43s 433ms/step - loss: 0.2752 - acc: 0.8845 - val_loss: 0.2363 - val_acc: 0.9060\n"
          ],
          "name": "stdout"
        }
      ]
    },
    {
      "metadata": {
        "id": "e0e7me7y7eaW",
        "colab_type": "code",
        "colab": {}
      },
      "cell_type": "code",
      "source": [
        "acc = history.history['acc']\n",
        "val_acc = history.history['val_acc']\n",
        "loss = history.history['loss']\n",
        "val_loss = history.history['val_loss']"
      ],
      "execution_count": 0,
      "outputs": []
    },
    {
      "metadata": {
        "id": "DR8iAezf8Vcj",
        "colab_type": "code",
        "colab": {
          "base_uri": "https://localhost:8080/",
          "height": 362
        },
        "outputId": "4f5e2492-cc7d-4f68-9b7e-c1cd3f70e544"
      },
      "cell_type": "code",
      "source": [
        "epochs = range(1, 31)\n",
        "\n",
        "plt.plot(epochs, loss, 'bo', label='Training loss')\n",
        "plt.plot(epochs, val_loss, 'b', label='Validation loss')\n",
        "plt.title('Training and validation loss')\n",
        "plt.legend()\n",
        "plt.show()"
      ],
      "execution_count": 16,
      "outputs": [
        {
          "output_type": "display_data",
          "data": {
            "image/png": "[encoded data removed]",
            "text/plain": [
              "<matplotlib.figure.Figure at 0x7fe212b78a58>"
            ]
          },
          "metadata": {
            "tags": []
          }
        }
      ]
    },
    {
      "metadata": {
        "id": "YepNgS-Q8kc8",
        "colab_type": "code",
        "colab": {
          "base_uri": "https://localhost:8080/",
          "height": 362
        },
        "outputId": "7ae8f8f3-e96f-4c3c-d40f-9202f871df5d"
      },
      "cell_type": "code",
      "source": [
        "plt.plot(epochs, acc, 'ko', label='Training acc')\n",
        "plt.plot(epochs, val_acc, 'k', label='Validation acc')\n",
        "plt.title('Training and validation accuracy')\n",
        "plt.legend()\n",
        "plt.show()"
      ],
      "execution_count": 17,
      "outputs": [
        {
          "output_type": "display_data",
          "data": {
            "image/png": "[encoded data removed]",
            "text/plain": [
              "<matplotlib.figure.Figure at 0x7fe2130a46d8>"
            ]
          },
          "metadata": {
            "tags": []
          }
        }
      ]
    },
    {
      "metadata": {
        "id": "mZ0bh2a48qK4",
        "colab_type": "code",
        "colab": {}
      },
      "cell_type": "code",
      "source": [
        "# Unfreezing the final Conv Block\n",
        "\n",
        "conv_base.trainable = True\n",
        "\n",
        "set_trainable = False\n",
        "for layer in conv_base.layers:\n",
        "  if layer.name == 'block5_conv1':\n",
        "    set_trainable = True\n",
        "  if set_trainable:\n",
        "    layer.trainable = True\n",
        "  else:\n",
        "    layer.trainable = False"
      ],
      "execution_count": 0,
      "outputs": []
    },
    {
      "metadata": {
        "id": "Rrguckjr9RfY",
        "colab_type": "code",
        "colab": {}
      },
      "cell_type": "code",
      "source": [
        "# Again compiling the Model\n",
        "\n",
        "model.compile(optimizer = optimizers.RMSprop(lr = 1e-5), loss = 'binary_crossentropy', metrics = ['acc'])"
      ],
      "execution_count": 0,
      "outputs": []
    },
    {
      "metadata": {
        "id": "EViiPjgx9e5x",
        "colab_type": "code",
        "colab": {
          "base_uri": "https://localhost:8080/",
          "height": 1059
        },
        "outputId": "8b319deb-65de-468d-e086-aa809b12bf25"
      },
      "cell_type": "code",
      "source": [
        "# Training\n",
        "\n",
        "history = model.fit_generator(train_generator, steps_per_epoch = 100, epochs = 30, validation_data = val_generator, validation_steps = 50)"
      ],
      "execution_count": 20,
      "outputs": [
        {
          "output_type": "stream",
          "text": [
            "Epoch 1/30\n",
            "100/100 [==============================] - 47s 474ms/step - loss: 0.3032 - acc: 0.8635 - val_loss: 0.2175 - val_acc: 0.9140\n",
            "Epoch 2/30\n",
            "100/100 [==============================] - 44s 443ms/step - loss: 0.2562 - acc: 0.8930 - val_loss: 0.2238 - val_acc: 0.9140\n",
            "Epoch 3/30\n",
            "100/100 [==============================] - 44s 443ms/step - loss: 0.2302 - acc: 0.9020 - val_loss: 0.2124 - val_acc: 0.9180\n",
            "Epoch 4/30\n",
            "100/100 [==============================] - 44s 444ms/step - loss: 0.2078 - acc: 0.9155 - val_loss: 0.2005 - val_acc: 0.9200\n",
            "Epoch 5/30\n",
            "100/100 [==============================] - 44s 443ms/step - loss: 0.1949 - acc: 0.9210 - val_loss: 0.2363 - val_acc: 0.9140\n",
            "Epoch 6/30\n",
            "100/100 [==============================] - 44s 443ms/step - loss: 0.2020 - acc: 0.9095 - val_loss: 0.2009 - val_acc: 0.9230\n",
            "Epoch 7/30\n",
            "100/100 [==============================] - 45s 447ms/step - loss: 0.1802 - acc: 0.9215 - val_loss: 0.2017 - val_acc: 0.9240\n",
            "Epoch 8/30\n",
            "100/100 [==============================] - 44s 436ms/step - loss: 0.1728 - acc: 0.9240 - val_loss: 0.1839 - val_acc: 0.9310\n",
            "Epoch 9/30\n",
            "100/100 [==============================] - 45s 445ms/step - loss: 0.1619 - acc: 0.9285 - val_loss: 0.1852 - val_acc: 0.9260\n",
            "Epoch 10/30\n",
            "100/100 [==============================] - 46s 462ms/step - loss: 0.1691 - acc: 0.9340 - val_loss: 0.1879 - val_acc: 0.9310\n",
            "Epoch 11/30\n",
            "100/100 [==============================] - 46s 458ms/step - loss: 0.1532 - acc: 0.9330 - val_loss: 0.1879 - val_acc: 0.9290\n",
            "Epoch 12/30\n",
            "100/100 [==============================] - 45s 448ms/step - loss: 0.1512 - acc: 0.9375 - val_loss: 0.1985 - val_acc: 0.9260\n",
            "Epoch 13/30\n",
            "100/100 [==============================] - 46s 457ms/step - loss: 0.1280 - acc: 0.9455 - val_loss: 0.1753 - val_acc: 0.9310\n",
            "Epoch 14/30\n",
            "100/100 [==============================] - 45s 449ms/step - loss: 0.1137 - acc: 0.9565 - val_loss: 0.1837 - val_acc: 0.9300\n",
            "Epoch 15/30\n",
            "100/100 [==============================] - 45s 446ms/step - loss: 0.1274 - acc: 0.9460 - val_loss: 0.3699 - val_acc: 0.8900\n",
            "Epoch 16/30\n",
            "100/100 [==============================] - 45s 448ms/step - loss: 0.1287 - acc: 0.9520 - val_loss: 0.1681 - val_acc: 0.9380\n",
            "Epoch 17/30\n",
            "100/100 [==============================] - 45s 447ms/step - loss: 0.1082 - acc: 0.9560 - val_loss: 0.1702 - val_acc: 0.9390\n",
            "Epoch 18/30\n",
            "100/100 [==============================] - 45s 447ms/step - loss: 0.1050 - acc: 0.9565 - val_loss: 0.1866 - val_acc: 0.9360\n",
            "Epoch 19/30\n",
            "100/100 [==============================] - 43s 434ms/step - loss: 0.0994 - acc: 0.9600 - val_loss: 0.2143 - val_acc: 0.9290\n",
            "Epoch 20/30\n",
            "100/100 [==============================] - 44s 443ms/step - loss: 0.1059 - acc: 0.9575 - val_loss: 0.1700 - val_acc: 0.9400\n",
            "Epoch 21/30\n",
            "100/100 [==============================] - 44s 443ms/step - loss: 0.0993 - acc: 0.9660 - val_loss: 0.2212 - val_acc: 0.9280\n",
            "Epoch 22/30\n",
            "100/100 [==============================] - 45s 447ms/step - loss: 0.1099 - acc: 0.9600 - val_loss: 0.2006 - val_acc: 0.9340\n",
            "Epoch 23/30\n",
            "100/100 [==============================] - 44s 437ms/step - loss: 0.0937 - acc: 0.9685 - val_loss: 0.1946 - val_acc: 0.9400\n",
            "Epoch 24/30\n",
            "100/100 [==============================] - 44s 444ms/step - loss: 0.0856 - acc: 0.9660 - val_loss: 0.3947 - val_acc: 0.8960\n",
            "Epoch 25/30\n",
            "100/100 [==============================] - 45s 449ms/step - loss: 0.0763 - acc: 0.9765 - val_loss: 0.2592 - val_acc: 0.9260\n",
            "Epoch 26/30\n",
            "100/100 [==============================] - 45s 447ms/step - loss: 0.0751 - acc: 0.9695 - val_loss: 0.2831 - val_acc: 0.9170\n",
            "Epoch 27/30\n",
            "100/100 [==============================] - 44s 439ms/step - loss: 0.0699 - acc: 0.9765 - val_loss: 0.1938 - val_acc: 0.9330\n",
            "Epoch 28/30\n",
            "100/100 [==============================] - 45s 445ms/step - loss: 0.0716 - acc: 0.9715 - val_loss: 0.2151 - val_acc: 0.9350\n",
            "Epoch 29/30\n",
            "100/100 [==============================] - 44s 444ms/step - loss: 0.0718 - acc: 0.9725 - val_loss: 0.2143 - val_acc: 0.9290\n",
            "Epoch 30/30\n",
            "100/100 [==============================] - 44s 444ms/step - loss: 0.0752 - acc: 0.9710 - val_loss: 0.2044 - val_acc: 0.9330\n"
          ],
          "name": "stdout"
        }
      ]
    },
    {
      "metadata": {
        "id": "DYVybjgT9kQd",
        "colab_type": "code",
        "colab": {}
      },
      "cell_type": "code",
      "source": [
        "acc = history.history['acc']\n",
        "val_acc = history.history['val_acc']\n",
        "loss = history.history['loss']\n",
        "val_loss = history.history['val_loss']"
      ],
      "execution_count": 0,
      "outputs": []
    },
    {
      "metadata": {
        "id": "H238d94t9nao",
        "colab_type": "code",
        "colab": {
          "base_uri": "https://localhost:8080/",
          "height": 362
        },
        "outputId": "2ebfe8b4-8e7c-4dca-890f-1d5dff6f29a0"
      },
      "cell_type": "code",
      "source": [
        "epochs = range(1, 31)\n",
        "\n",
        "plt.plot(epochs, loss, 'bo', label='Training loss')\n",
        "plt.plot(epochs, val_loss, 'b', label='Validation loss')\n",
        "plt.title('Training and validation loss')\n",
        "plt.legend()\n",
        "plt.show()"
      ],
      "execution_count": 22,
      "outputs": [
        {
          "output_type": "display_data",
          "data": {
            "image/png": "[encoded data removed]",
            "text/plain": [
              "<matplotlib.figure.Figure at 0x7fe2176f8c50>"
            ]
          },
          "metadata": {
            "tags": []
          }
        }
      ]
    },
    {
      "metadata": {
        "id": "Cwe0paNp9phh",
        "colab_type": "code",
        "colab": {
          "base_uri": "https://localhost:8080/",
          "height": 362
        },
        "outputId": "36a96f4b-59f7-4094-a250-566c34a54d71"
      },
      "cell_type": "code",
      "source": [
        "plt.plot(epochs, acc, 'co', label='Training acc')\n",
        "plt.plot(epochs, val_acc, 'c', label='Validation acc')\n",
        "plt.title('Training and validation accuracy')\n",
        "plt.legend()\n",
        "plt.show()"
      ],
      "execution_count": 23,
      "outputs": [
        {
          "output_type": "display_data",
          "data": {
            "image/png": "[encoded data removed]",
            "text/plain": [
              "<matplotlib.figure.Figure at 0x7fe212b669b0>"
            ]
          },
          "metadata": {
            "tags": []
          }
        }
      ]
    },
    {
      "metadata": {
        "id": "NsIxnzVE_1BA",
        "colab_type": "code",
        "colab": {
          "base_uri": "https://localhost:8080/",
          "height": 52
        },
        "outputId": "397c89cc-945c-4784-9f30-f620c2b1a7d5"
      },
      "cell_type": "code",
      "source": [
        "# Testing\n",
        "\n",
        "test_generator = test_datagen.flow_from_directory(test_dir, target_size=(150, 150), batch_size=20, class_mode='binary')\n",
        "test_loss, test_acc = model.evaluate_generator(test_generator, steps=50)\n",
        "test_loss, test_acc"
      ],
      "execution_count": 24,
      "outputs": [
        {
          "output_type": "stream",
          "text": [
            "Found 1007 images belonging to 2 classes.\n"
          ],
          "name": "stdout"
        },
        {
          "output_type": "execute_result",
          "data": {
            "text/plain": [
              "(0.2140047448920086, 0.9439999914169311)"
            ]
          },
          "metadata": {
            "tags": []
          },
          "execution_count": 24
        }
      ]
    }
  ]
}
